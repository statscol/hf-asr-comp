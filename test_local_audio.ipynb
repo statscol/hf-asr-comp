{
 "cells": [
  {
   "cell_type": "markdown",
   "metadata": {},
   "source": [
    "## test audio files locally"
   ]
  },
  {
   "cell_type": "code",
   "execution_count": 2,
   "metadata": {},
   "outputs": [
    {
     "name": "stdout",
     "output_type": "stream",
     "text": [
      "/home/jhonparra/.local/lib/python3.8/site-packages/pkg_resources/__init__.py:116: PkgResourcesDeprecationWarning: 0.23ubuntu1 is an invalid version and will not be supported in a future release\n",
      "  warnings.warn(\n",
      "/home/jhonparra/.local/lib/python3.8/site-packages/pkg_resources/__init__.py:116: PkgResourcesDeprecationWarning: 0.1.36ubuntu1 is an invalid version and will not be supported in a future release\n",
      "  warnings.warn(\n",
      "Collecting pyctcdecode\n",
      "  Downloading pyctcdecode-0.3.0-py2.py3-none-any.whl (43 kB)\n",
      "\u001b[K     |████████████████████████████████| 43 kB 2.1 MB/s eta 0:00:01\n",
      "\u001b[?25hRequirement already satisfied: numpy<2.0.0,>=1.15.0 in ./.local/lib/python3.8/site-packages (from pyctcdecode) (1.22.1)\n",
      "Collecting pygtrie<3.0,>=2.1\n",
      "  Downloading pygtrie-2.4.2.tar.gz (35 kB)\n",
      "Collecting hypothesis<7,>=6.14\n",
      "  Downloading hypothesis-6.36.1-py3-none-any.whl (376 kB)\n",
      "\u001b[K     |████████████████████████████████| 376 kB 163 kB/s eta 0:00:01\n",
      "\u001b[?25hRequirement already satisfied: attrs>=19.2.0 in /usr/lib/python3/dist-packages (from hypothesis<7,>=6.14->pyctcdecode) (19.3.0)\n",
      "Collecting sortedcontainers<3.0.0,>=2.1.0\n",
      "  Downloading sortedcontainers-2.4.0-py2.py3-none-any.whl (29 kB)\n",
      "Building wheels for collected packages: pygtrie\n",
      "  Building wheel for pygtrie (setup.py) ... \u001b[?25ldone\n",
      "\u001b[?25h  Created wheel for pygtrie: filename=pygtrie-2.4.2-py3-none-any.whl size=19062 sha256=555f3bfdbde75676e139f9ba392b901b2f57c1409c2f7b6f436532c452cd1576\n",
      "  Stored in directory: /home/jhonparra/.cache/pip/wheels/31/03/7b/f685b394a937bc97d2d40908d45aa31f3d9473bca6e9019153\n",
      "Successfully built pygtrie\n",
      "Installing collected packages: pygtrie, sortedcontainers, hypothesis, pyctcdecode\n",
      "Successfully installed hypothesis-6.36.1 pyctcdecode-0.3.0 pygtrie-2.4.2 sortedcontainers-2.4.0\n"
     ]
    }
   ],
   "source": [
    "!pip install pyctcdecode"
   ]
  },
  {
   "cell_type": "code",
   "execution_count": 2,
   "metadata": {},
   "outputs": [
    {
     "name": "stdout",
     "output_type": "stream",
     "text": [
      "Collecting https://github.com/kpu/kenlm/archive/master.zip\n",
      "  Downloading https://github.com/kpu/kenlm/archive/master.zip\n",
      "\u001b[K     - 541 kB 553 kB/sB/s\n",
      "\u001b[?25hBuilding wheels for collected packages: kenlm\n",
      "  Building wheel for kenlm (setup.py) ... \u001b[?25ldone\n",
      "\u001b[?25h  Created wheel for kenlm: filename=kenlm-0.0.0-cp38-cp38-linux_x86_64.whl size=2972736 sha256=3b127527f167b77204f3ed43877a4f040c0db93f7586b1ce630d9cfb4f167460\n",
      "  Stored in directory: /tmp/pip-ephem-wheel-cache-5fm4bkdx/wheels/ff/08/4e/a3ddc0e786e0f3c1fcd2e7a82c4324c02fc3ae2638471406d2\n",
      "Successfully built kenlm\n",
      "Installing collected packages: kenlm\n",
      "Successfully installed kenlm-0.0.0\n",
      "Note: you may need to restart the kernel to use updated packages.\n"
     ]
    }
   ],
   "source": [
    "!pip install https://github.com/kpu/kenlm/archive/master.zip"
   ]
  },
  {
   "cell_type": "code",
   "execution_count": 3,
   "metadata": {},
   "outputs": [
    {
     "name": "stdout",
     "output_type": "stream",
     "text": [
      "Collecting huggingface_hub\n",
      "  Downloading huggingface_hub-0.4.0-py3-none-any.whl (67 kB)\n",
      "\u001b[K     |████████████████████████████████| 67 kB 254 kB/s eta 0:00:011\n",
      "\u001b[?25hRequirement already satisfied, skipping upgrade: filelock in ./.local/lib/python3.8/site-packages (from huggingface_hub) (3.4.2)\n",
      "Requirement already satisfied, skipping upgrade: requests in /usr/lib/python3/dist-packages (from huggingface_hub) (2.22.0)\n",
      "Requirement already satisfied, skipping upgrade: tqdm in ./.local/lib/python3.8/site-packages (from huggingface_hub) (4.62.3)\n",
      "Requirement already satisfied, skipping upgrade: pyyaml in /usr/lib/python3/dist-packages (from huggingface_hub) (5.3.1)\n",
      "Requirement already satisfied, skipping upgrade: typing-extensions>=3.7.4.3 in ./.local/lib/python3.8/site-packages (from huggingface_hub) (4.0.1)\n",
      "Requirement already satisfied, skipping upgrade: packaging>=20.9 in ./.local/lib/python3.8/site-packages (from huggingface_hub) (21.3)\n",
      "Requirement already satisfied, skipping upgrade: pyparsing!=3.0.5,>=2.0.2 in ./.local/lib/python3.8/site-packages (from packaging>=20.9->huggingface_hub) (3.0.7)\n",
      "Installing collected packages: huggingface-hub\n",
      "  Attempting uninstall: huggingface-hub\n",
      "    Found existing installation: huggingface-hub 0.1.0\n",
      "    Uninstalling huggingface-hub-0.1.0:\n",
      "      Successfully uninstalled huggingface-hub-0.1.0\n",
      "Successfully installed huggingface-hub-0.4.0\n"
     ]
    }
   ],
   "source": [
    "!pip install huggingface_hub --upgrade ## requires version greater than 0.4, always restart kernel before using"
   ]
  },
  {
   "cell_type": "code",
   "execution_count": 1,
   "metadata": {},
   "outputs": [],
   "source": [
    "\n",
    "from transformers import AutoProcessor, AutoModelForCTC\n",
    "from transformers import pipeline, AutoFeatureExtractor\n",
    "\n",
    "processor = AutoProcessor.from_pretrained(\"glob-asr/wav2vec2-xls-r-300m-spanish-large-LM\")\n",
    "\n",
    "model = AutoModelForCTC.from_pretrained(\"glob-asr/wav2vec2-xls-r-300m-spanish-large-LM\")"
   ]
  },
  {
   "cell_type": "code",
   "execution_count": 2,
   "metadata": {},
   "outputs": [],
   "source": []
  },
  {
   "cell_type": "code",
   "execution_count": 3,
   "metadata": {},
   "outputs": [],
   "source": [
    "asr = pipeline(\"automatic-speech-recognition\", model=\"glob-asr/wav2vec2-xls-r-300m-spanish-large-LM\", device=0)"
   ]
  },
  {
   "cell_type": "code",
   "execution_count": 24,
   "metadata": {},
   "outputs": [
    {
     "name": "stdout",
     "output_type": "stream",
     "text": [
      "Collecting numba==0.53\n",
      "  Downloading numba-0.53.0-cp38-cp38-manylinux2014_x86_64.whl (3.4 MB)\n",
      "\u001b[K     |████████████████████████████████| 3.4 MB 171 kB/s eta 0:00:01\n",
      "\u001b[?25hCollecting llvmlite<0.37,>=0.36.0rc1\n",
      "  Downloading llvmlite-0.36.0-cp38-cp38-manylinux2010_x86_64.whl (25.3 MB)\n",
      "\u001b[K     |████████████████████████████████| 25.3 MB 184 kB/s eta 0:00:01\n",
      "\u001b[?25hRequirement already satisfied: numpy>=1.15 in ./.local/lib/python3.8/site-packages (from numba==0.53) (1.22.1)\n",
      "Requirement already satisfied: setuptools in ./.local/lib/python3.8/site-packages (from numba==0.53) (60.5.0)\n",
      "Installing collected packages: llvmlite, numba\n",
      "  Attempting uninstall: llvmlite\n",
      "    Found existing installation: llvmlite 0.38.0\n",
      "    Uninstalling llvmlite-0.38.0:\n",
      "      Successfully uninstalled llvmlite-0.38.0\n",
      "  Attempting uninstall: numba\n",
      "    Found existing installation: numba 0.55.1\n",
      "    Uninstalling numba-0.55.1:\n",
      "      Successfully uninstalled numba-0.55.1\n",
      "Successfully installed llvmlite-0.36.0 numba-0.53.0\n"
     ]
    }
   ],
   "source": [
    "!pip install numba==0.53 ##required in order to use librosa"
   ]
  },
  {
   "cell_type": "code",
   "execution_count": 4,
   "metadata": {},
   "outputs": [],
   "source": [
    "import soundfile as sf\n",
    "import torchaudio\n",
    "import librosa"
   ]
  },
  {
   "cell_type": "code",
   "execution_count": 76,
   "metadata": {},
   "outputs": [],
   "source": [
    "import numpy as np\n",
    "\n",
    "def speech_file_to_array(path):\n",
    "        #taken from discord user prj#1227 asr-competition\n",
    "        _, sampling_rate = sf.read(path)\n",
    "\n",
    "        speech = torchaudio.load(path)\n",
    "        speech = speech[0].numpy().squeeze()\n",
    "        speech = librosa.resample(y=np.asarray(speech),orig_sr= sampling_rate, target_sr=16_000)\n",
    "        return speech, sampling_rate\n",
    "audio_array,sr=speech_file_to_array(\"wav_files/mendicidad.wav\")\n"
   ]
  },
  {
   "cell_type": "code",
   "execution_count": 83,
   "metadata": {},
   "outputs": [
    {
     "data": {
      "text/plain": [
       "{'text': 'en venezuela no hay trabajo infantil más que todo mendicidad que eso es el momento en que los niños van a pedir dinero y a veces tambien se da el caso de que hay un adulto no se si sea familiar uno perun adulto que controla a varios niños entonces todos esos niños van piado dinero y luego todo se lo van a esa persona pero sin embargo no no es tan como si se ve pero se ve mucho más a personas adultas viendo dinero a personas adultas trabajando más que a niños con los niños eso no no suele pasar tanto'}"
      ]
     },
     "execution_count": 83,
     "metadata": {},
     "output_type": "execute_result"
    }
   ],
   "source": [
    "prediction = asr(audio_array[0], chunk_length_s=5, stride_length_s=0.5)\n",
    "prediction"
   ]
  }
 ],
 "metadata": {
  "interpreter": {
   "hash": "916dbcbb3f70747c44a77c7bcd40155683ae19c65e1c03b4aa3499c5328201f1"
  },
  "kernelspec": {
   "display_name": "Python 3.8.10 64-bit",
   "language": "python",
   "name": "python3"
  },
  "language_info": {
   "codemirror_mode": {
    "name": "ipython",
    "version": 3
   },
   "file_extension": ".py",
   "mimetype": "text/x-python",
   "name": "python",
   "nbconvert_exporter": "python",
   "pygments_lexer": "ipython3",
   "version": "3.8.10"
  },
  "orig_nbformat": 4
 },
 "nbformat": 4,
 "nbformat_minor": 2
}
